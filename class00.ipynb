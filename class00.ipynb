{
 "cells": [
  {
   "cell_type": "markdown",
   "metadata": {},
   "source": [
    "# 標題一\n",
    "## 標題二\n",
    "### 標題三\n",
    "\n",
    "內文內容\n",
    "\n",
    "1. 編號一\n",
    "2. 編號二\n",
    "3. 編號三\n",
    "\n",
    "* 項目一\n",
    "* 項目二\n",
    "- 項目三\n",
    "\n",
    "> 小技巧:  \n",
    "強迫分行 兩次空白建\n"
   ]
  },
  {
   "cell_type": "markdown",
   "metadata": {},
   "source": [
    "- 程式碼:\n",
    "```Python\n",
    "def sum(a, b):\n",
    "    return a+b\n",
    "\n",
    "r = sum(1,2)\n",
    "print(r)\n",
    "```\n",
    "\n",
    "    def sum(a, b):\n",
    "        return a+b\n",
    "\n",
    "    r = sum(1,2)\n",
    "    print(r)\n",
    "\n",
    "---\n",
    "\n",
    "- 行內樣式  \n",
    "內文*斜體*以及**粗體** 還有 ***粗斜體***  \n",
    "內文`標示`  \n"
   ]
  },
  {
   "cell_type": "markdown",
   "metadata": {},
   "source": [
    "- 超連結:  \n",
    "http://www.google.com  \n",
    "[Google官網](http://www.google.com)\n",
    "\n",
    "- 圖片:  \n",
    "![](https://www.google.com/images/branding/googlelogo/1x/googlelogo_color_272x92dp.png)\n",
    "\n",
    "- 圖片+超連結:  \n",
    "[![](https://www.google.com/images/branding/googlelogo/1x/googlelogo_color_272x92dp.png)](http://www.google.com)\n",
    "\n",
    "- 圖片+超連結+文字註釋:  \n",
    "[![](https://www.google.com/images/branding/googlelogo/1x/googlelogo_color_272x92dp.png)](http://www.google.com \"google官網\")\n"
   ]
  },
  {
   "cell_type": "markdown",
   "metadata": {},
   "source": [
    "參考:  \n",
    "https://markdown.tw/"
   ]
  }
 ],
 "metadata": {
  "language_info": {
   "name": "python"
  }
 },
 "nbformat": 4,
 "nbformat_minor": 2
}
